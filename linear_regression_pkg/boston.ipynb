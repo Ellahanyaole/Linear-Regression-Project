{
 "cells": [
  {
   "cell_type": "code",
   "execution_count": 103,
   "id": "d31f678a",
   "metadata": {},
   "outputs": [],
   "source": [
    "import pandas as pd\n",
    "from sklearn.model_selection import train_test_split\n",
    "from sklearn.linear_model import LinearRegression\n",
    "import matplotlib.pyplot as plt\n",
    "import numpy as np\n",
    "from sklearn.metrics import mean_absolute_error, mean_squared_error\n",
    "\n"
   ]
  },
  {
   "cell_type": "markdown",
   "id": "3e4c5482",
   "metadata": {},
   "source": [
    "# Reading data from sauce\n"
   ]
  },
  {
   "cell_type": "code",
   "execution_count": 104,
   "id": "1c716730",
   "metadata": {},
   "outputs": [
    {
     "data": {
      "text/html": [
       "<div>\n",
       "<style scoped>\n",
       "    .dataframe tbody tr th:only-of-type {\n",
       "        vertical-align: middle;\n",
       "    }\n",
       "\n",
       "    .dataframe tbody tr th {\n",
       "        vertical-align: top;\n",
       "    }\n",
       "\n",
       "    .dataframe thead th {\n",
       "        text-align: right;\n",
       "    }\n",
       "</style>\n",
       "<table border=\"1\" class=\"dataframe\">\n",
       "  <thead>\n",
       "    <tr style=\"text-align: right;\">\n",
       "      <th></th>\n",
       "      <th>0.00632</th>\n",
       "      <th>18</th>\n",
       "      <th>2.31</th>\n",
       "      <th>0</th>\n",
       "      <th>0.538</th>\n",
       "      <th>6.575</th>\n",
       "      <th>65.2</th>\n",
       "      <th>4.09</th>\n",
       "      <th>1</th>\n",
       "      <th>296</th>\n",
       "      <th>15.3</th>\n",
       "      <th>396.9</th>\n",
       "      <th>4.98</th>\n",
       "      <th>24</th>\n",
       "    </tr>\n",
       "  </thead>\n",
       "  <tbody>\n",
       "    <tr>\n",
       "      <th>0</th>\n",
       "      <td>0.02731</td>\n",
       "      <td>0.0</td>\n",
       "      <td>7.07</td>\n",
       "      <td>0.0</td>\n",
       "      <td>0.469</td>\n",
       "      <td>6.421</td>\n",
       "      <td>78.9</td>\n",
       "      <td>4.9671</td>\n",
       "      <td>2</td>\n",
       "      <td>242.0</td>\n",
       "      <td>17.8</td>\n",
       "      <td>396.90</td>\n",
       "      <td>9.14</td>\n",
       "      <td>21.6</td>\n",
       "    </tr>\n",
       "    <tr>\n",
       "      <th>1</th>\n",
       "      <td>0.02729</td>\n",
       "      <td>0.0</td>\n",
       "      <td>7.07</td>\n",
       "      <td>0.0</td>\n",
       "      <td>0.469</td>\n",
       "      <td>7.185</td>\n",
       "      <td>61.1</td>\n",
       "      <td>4.9671</td>\n",
       "      <td>2</td>\n",
       "      <td>242.0</td>\n",
       "      <td>17.8</td>\n",
       "      <td>392.83</td>\n",
       "      <td>4.03</td>\n",
       "      <td>34.7</td>\n",
       "    </tr>\n",
       "    <tr>\n",
       "      <th>2</th>\n",
       "      <td>0.03237</td>\n",
       "      <td>0.0</td>\n",
       "      <td>2.18</td>\n",
       "      <td>0.0</td>\n",
       "      <td>0.458</td>\n",
       "      <td>6.998</td>\n",
       "      <td>45.8</td>\n",
       "      <td>6.0622</td>\n",
       "      <td>3</td>\n",
       "      <td>222.0</td>\n",
       "      <td>18.7</td>\n",
       "      <td>394.63</td>\n",
       "      <td>2.94</td>\n",
       "      <td>33.4</td>\n",
       "    </tr>\n",
       "    <tr>\n",
       "      <th>3</th>\n",
       "      <td>0.06905</td>\n",
       "      <td>0.0</td>\n",
       "      <td>2.18</td>\n",
       "      <td>0.0</td>\n",
       "      <td>0.458</td>\n",
       "      <td>7.147</td>\n",
       "      <td>54.2</td>\n",
       "      <td>6.0622</td>\n",
       "      <td>3</td>\n",
       "      <td>222.0</td>\n",
       "      <td>18.7</td>\n",
       "      <td>396.90</td>\n",
       "      <td>5.33</td>\n",
       "      <td>36.2</td>\n",
       "    </tr>\n",
       "    <tr>\n",
       "      <th>4</th>\n",
       "      <td>0.02985</td>\n",
       "      <td>0.0</td>\n",
       "      <td>2.18</td>\n",
       "      <td>0.0</td>\n",
       "      <td>0.458</td>\n",
       "      <td>6.430</td>\n",
       "      <td>58.7</td>\n",
       "      <td>6.0622</td>\n",
       "      <td>3</td>\n",
       "      <td>222.0</td>\n",
       "      <td>18.7</td>\n",
       "      <td>394.12</td>\n",
       "      <td>5.21</td>\n",
       "      <td>28.7</td>\n",
       "    </tr>\n",
       "    <tr>\n",
       "      <th>...</th>\n",
       "      <td>...</td>\n",
       "      <td>...</td>\n",
       "      <td>...</td>\n",
       "      <td>...</td>\n",
       "      <td>...</td>\n",
       "      <td>...</td>\n",
       "      <td>...</td>\n",
       "      <td>...</td>\n",
       "      <td>...</td>\n",
       "      <td>...</td>\n",
       "      <td>...</td>\n",
       "      <td>...</td>\n",
       "      <td>...</td>\n",
       "      <td>...</td>\n",
       "    </tr>\n",
       "    <tr>\n",
       "      <th>500</th>\n",
       "      <td>0.06263</td>\n",
       "      <td>0.0</td>\n",
       "      <td>11.93</td>\n",
       "      <td>0.0</td>\n",
       "      <td>0.573</td>\n",
       "      <td>6.593</td>\n",
       "      <td>69.1</td>\n",
       "      <td>2.4786</td>\n",
       "      <td>1</td>\n",
       "      <td>273.0</td>\n",
       "      <td>21.0</td>\n",
       "      <td>391.99</td>\n",
       "      <td>9.67</td>\n",
       "      <td>22.4</td>\n",
       "    </tr>\n",
       "    <tr>\n",
       "      <th>501</th>\n",
       "      <td>0.04527</td>\n",
       "      <td>0.0</td>\n",
       "      <td>11.93</td>\n",
       "      <td>0.0</td>\n",
       "      <td>0.573</td>\n",
       "      <td>6.120</td>\n",
       "      <td>76.7</td>\n",
       "      <td>2.2875</td>\n",
       "      <td>1</td>\n",
       "      <td>273.0</td>\n",
       "      <td>21.0</td>\n",
       "      <td>396.90</td>\n",
       "      <td>9.08</td>\n",
       "      <td>20.6</td>\n",
       "    </tr>\n",
       "    <tr>\n",
       "      <th>502</th>\n",
       "      <td>0.06076</td>\n",
       "      <td>0.0</td>\n",
       "      <td>11.93</td>\n",
       "      <td>0.0</td>\n",
       "      <td>0.573</td>\n",
       "      <td>6.976</td>\n",
       "      <td>91.0</td>\n",
       "      <td>2.1675</td>\n",
       "      <td>1</td>\n",
       "      <td>273.0</td>\n",
       "      <td>21.0</td>\n",
       "      <td>396.90</td>\n",
       "      <td>5.64</td>\n",
       "      <td>23.9</td>\n",
       "    </tr>\n",
       "    <tr>\n",
       "      <th>503</th>\n",
       "      <td>0.10959</td>\n",
       "      <td>0.0</td>\n",
       "      <td>11.93</td>\n",
       "      <td>0.0</td>\n",
       "      <td>0.573</td>\n",
       "      <td>6.794</td>\n",
       "      <td>89.3</td>\n",
       "      <td>2.3889</td>\n",
       "      <td>1</td>\n",
       "      <td>273.0</td>\n",
       "      <td>21.0</td>\n",
       "      <td>393.45</td>\n",
       "      <td>6.48</td>\n",
       "      <td>22.0</td>\n",
       "    </tr>\n",
       "    <tr>\n",
       "      <th>504</th>\n",
       "      <td>0.04741</td>\n",
       "      <td>0.0</td>\n",
       "      <td>11.93</td>\n",
       "      <td>0.0</td>\n",
       "      <td>0.573</td>\n",
       "      <td>6.030</td>\n",
       "      <td>80.8</td>\n",
       "      <td>2.5050</td>\n",
       "      <td>1</td>\n",
       "      <td>273.0</td>\n",
       "      <td>21.0</td>\n",
       "      <td>396.90</td>\n",
       "      <td>7.88</td>\n",
       "      <td>11.9</td>\n",
       "    </tr>\n",
       "  </tbody>\n",
       "</table>\n",
       "<p>505 rows × 14 columns</p>\n",
       "</div>"
      ],
      "text/plain": [
       "     0.00632   18   2.31    0  0.538  6.575  65.2    4.09  1    296  15.3  \\\n",
       "0    0.02731  0.0   7.07  0.0  0.469  6.421  78.9  4.9671  2  242.0  17.8   \n",
       "1    0.02729  0.0   7.07  0.0  0.469  7.185  61.1  4.9671  2  242.0  17.8   \n",
       "2    0.03237  0.0   2.18  0.0  0.458  6.998  45.8  6.0622  3  222.0  18.7   \n",
       "3    0.06905  0.0   2.18  0.0  0.458  7.147  54.2  6.0622  3  222.0  18.7   \n",
       "4    0.02985  0.0   2.18  0.0  0.458  6.430  58.7  6.0622  3  222.0  18.7   \n",
       "..       ...  ...    ...  ...    ...    ...   ...     ... ..    ...   ...   \n",
       "500  0.06263  0.0  11.93  0.0  0.573  6.593  69.1  2.4786  1  273.0  21.0   \n",
       "501  0.04527  0.0  11.93  0.0  0.573  6.120  76.7  2.2875  1  273.0  21.0   \n",
       "502  0.06076  0.0  11.93  0.0  0.573  6.976  91.0  2.1675  1  273.0  21.0   \n",
       "503  0.10959  0.0  11.93  0.0  0.573  6.794  89.3  2.3889  1  273.0  21.0   \n",
       "504  0.04741  0.0  11.93  0.0  0.573  6.030  80.8  2.5050  1  273.0  21.0   \n",
       "\n",
       "      396.9  4.98    24  \n",
       "0    396.90  9.14  21.6  \n",
       "1    392.83  4.03  34.7  \n",
       "2    394.63  2.94  33.4  \n",
       "3    396.90  5.33  36.2  \n",
       "4    394.12  5.21  28.7  \n",
       "..      ...   ...   ...  \n",
       "500  391.99  9.67  22.4  \n",
       "501  396.90  9.08  20.6  \n",
       "502  396.90  5.64  23.9  \n",
       "503  393.45  6.48  22.0  \n",
       "504  396.90  7.88  11.9  \n",
       "\n",
       "[505 rows x 14 columns]"
      ]
     },
     "execution_count": 104,
     "metadata": {},
     "output_type": "execute_result"
    }
   ],
   "source": [
    "df = pd.read_csv(\"/home/ellah/ros2_ws/src/linear_regression_pkg/linear_regression_pkg/boston_housing.csv\")\n",
    "df"
   ]
  },
  {
   "cell_type": "code",
   "execution_count": 105,
   "id": "6d5f226a",
   "metadata": {},
   "outputs": [],
   "source": [
    "df = pd.read_csv(\"boston_housing.csv\",sep=\",\", header=None)\n",
    "df.columns = ['CRIM', 'ZN', 'INDUS', 'CHAS', 'NOX', 'RM', 'AGE', 'DIS', 'RAD', 'TAX', 'PTRATIO', 'B', 'LSTAT', 'MEDV']"
   ]
  },
  {
   "cell_type": "code",
   "execution_count": 106,
   "id": "da17f7a1",
   "metadata": {},
   "outputs": [
    {
     "name": "stdout",
     "output_type": "stream",
     "text": [
      "['CRIM', 'ZN', 'INDUS', 'CHAS', 'NOX', 'RM', 'AGE', 'DIS', 'RAD', 'TAX', 'PTRATIO', 'B', 'LSTAT', 'MEDV']\n"
     ]
    }
   ],
   "source": [
    "print(df.columns.tolist())"
   ]
  },
  {
   "cell_type": "markdown",
   "id": "5c85d0b9",
   "metadata": {},
   "source": [
    "# Drop MEDV"
   ]
  },
  {
   "cell_type": "code",
   "execution_count": 107,
   "id": "1989f8b5",
   "metadata": {},
   "outputs": [],
   "source": [
    "# Drop rows with missing target values\n",
    "df = df.dropna(subset=['MEDV'])\n",
    "\n",
    "# Features and Labels\n",
    "X = df.drop(columns=['MEDV'])\n",
    "y = df['MEDV']"
   ]
  },
  {
   "cell_type": "markdown",
   "id": "1dc53007",
   "metadata": {},
   "source": [
    "# Data preprocesing\n"
   ]
  },
  {
   "cell_type": "code",
   "execution_count": 108,
   "id": "67e261d5",
   "metadata": {},
   "outputs": [],
   "source": [
    "X = df.iloc[:, :-1].values\n",
    "y = df.iloc[:, 0].values"
   ]
  },
  {
   "cell_type": "markdown",
   "id": "e60b5c2f",
   "metadata": {},
   "source": [
    "# Model Training(Split data)"
   ]
  },
  {
   "cell_type": "code",
   "execution_count": 109,
   "id": "151d96c8",
   "metadata": {},
   "outputs": [
    {
     "name": "stdout",
     "output_type": "stream",
     "text": [
      "Training data shape: (361, 13)\n",
      "Test data shape: (91, 13)\n"
     ]
    }
   ],
   "source": [
    "X_train, X_test, y_train, y_test = train_test_split(\n",
    "    X, y, test_size=0.2, random_state=42\n",
    ")\n",
    "\n",
    "# Print confirmation\n",
    "print(\"Training data shape:\", X_train.shape)\n",
    "print(\"Test data shape:\", X_test.shape)"
   ]
  },
  {
   "cell_type": "code",
   "execution_count": 110,
   "id": "68f6601b",
   "metadata": {},
   "outputs": [
    {
     "data": {
      "image/png": "[encoded data removed]",
      "text/plain": [
       "<Figure size 640x480 with 1 Axes>"
      ]
     },
     "metadata": {},
     "output_type": "display_data"
    }
   ],
   "source": [
    "regressor = LinearRegression()\n",
    "regressor.fit(X_train, y_train)\n",
    "line = regressor.coef_[0] * X_test[:, 0] + regressor.intercept_\n",
    "\n",
    "plt.scatter(X_test[:, 0], y_test)\n",
    "plt.plot(X_test[:, 0], line, color='red')\n",
    "plt.show()"
   ]
  },
  {
   "cell_type": "markdown",
   "id": "ab1ec565",
   "metadata": {},
   "source": [
    "# making Prediction"
   ]
  },
  {
   "cell_type": "code",
   "execution_count": 111,
   "id": "60c49217",
   "metadata": {},
   "outputs": [
    {
     "name": "stdout",
     "output_type": "stream",
     "text": [
      "[[5.5610e-02 7.0000e+01 2.2400e+00 ... 1.4800e+01 3.7158e+02 4.7400e+00]\n",
      " [2.7630e-02 7.5000e+01 2.9500e+00 ... 1.8300e+01 3.9563e+02 4.3200e+00]\n",
      " [3.4270e-02 0.0000e+00 5.1900e+00 ... 2.0200e+01 3.9690e+02 9.8000e+00]\n",
      " ...\n",
      " [2.8750e-02 2.8000e+01 1.5040e+01 ... 1.8200e+01 3.9633e+02 6.2100e+00]\n",
      " [1.4320e-02 1.0000e+02 1.3200e+00 ... 1.5100e+01 3.9290e+02 3.9500e+00]\n",
      " [8.6640e-02 4.5000e+01 3.4400e+00 ... 1.5200e+01 3.9049e+02 2.8700e+00]]\n"
     ]
    }
   ],
   "source": [
    "#testing\n",
    "print(X_test)\n",
    "    #model Prediction\n",
    "y_pred = regressor.predict(X_test)"
   ]
  },
  {
   "cell_type": "markdown",
   "id": "55ed9324",
   "metadata": {},
   "source": [
    "# comparing actual result to the predicted model result"
   ]
  },
  {
   "cell_type": "code",
   "execution_count": 112,
   "id": "c43bf4ee",
   "metadata": {},
   "outputs": [
    {
     "data": {
      "text/html": [
       "<div>\n",
       "<style scoped>\n",
       "    .dataframe tbody tr th:only-of-type {\n",
       "        vertical-align: middle;\n",
       "    }\n",
       "\n",
       "    .dataframe tbody tr th {\n",
       "        vertical-align: top;\n",
       "    }\n",
       "\n",
       "    .dataframe thead th {\n",
       "        text-align: right;\n",
       "    }\n",
       "</style>\n",
       "<table border=\"1\" class=\"dataframe\">\n",
       "  <thead>\n",
       "    <tr style=\"text-align: right;\">\n",
       "      <th></th>\n",
       "      <th>Actual</th>\n",
       "      <th>predicted</th>\n",
       "    </tr>\n",
       "  </thead>\n",
       "  <tbody>\n",
       "    <tr>\n",
       "      <th>0</th>\n",
       "      <td>0.05561</td>\n",
       "      <td>0.05561</td>\n",
       "    </tr>\n",
       "    <tr>\n",
       "      <th>1</th>\n",
       "      <td>0.02763</td>\n",
       "      <td>0.02763</td>\n",
       "    </tr>\n",
       "    <tr>\n",
       "      <th>2</th>\n",
       "      <td>0.03427</td>\n",
       "      <td>0.03427</td>\n",
       "    </tr>\n",
       "    <tr>\n",
       "      <th>3</th>\n",
       "      <td>0.03466</td>\n",
       "      <td>0.03466</td>\n",
       "    </tr>\n",
       "    <tr>\n",
       "      <th>4</th>\n",
       "      <td>2.14918</td>\n",
       "      <td>2.14918</td>\n",
       "    </tr>\n",
       "    <tr>\n",
       "      <th>...</th>\n",
       "      <td>...</td>\n",
       "      <td>...</td>\n",
       "    </tr>\n",
       "    <tr>\n",
       "      <th>86</th>\n",
       "      <td>0.06263</td>\n",
       "      <td>0.06263</td>\n",
       "    </tr>\n",
       "    <tr>\n",
       "      <th>87</th>\n",
       "      <td>0.35233</td>\n",
       "      <td>0.35233</td>\n",
       "    </tr>\n",
       "    <tr>\n",
       "      <th>88</th>\n",
       "      <td>0.02875</td>\n",
       "      <td>0.02875</td>\n",
       "    </tr>\n",
       "    <tr>\n",
       "      <th>89</th>\n",
       "      <td>0.01432</td>\n",
       "      <td>0.01432</td>\n",
       "    </tr>\n",
       "    <tr>\n",
       "      <th>90</th>\n",
       "      <td>0.08664</td>\n",
       "      <td>0.08664</td>\n",
       "    </tr>\n",
       "  </tbody>\n",
       "</table>\n",
       "<p>91 rows × 2 columns</p>\n",
       "</div>"
      ],
      "text/plain": [
       "     Actual  predicted\n",
       "0   0.05561    0.05561\n",
       "1   0.02763    0.02763\n",
       "2   0.03427    0.03427\n",
       "3   0.03466    0.03466\n",
       "4   2.14918    2.14918\n",
       "..      ...        ...\n",
       "86  0.06263    0.06263\n",
       "87  0.35233    0.35233\n",
       "88  0.02875    0.02875\n",
       "89  0.01432    0.01432\n",
       "90  0.08664    0.08664\n",
       "\n",
       "[91 rows x 2 columns]"
      ]
     },
     "execution_count": 112,
     "metadata": {},
     "output_type": "execute_result"
    }
   ],
   "source": [
    "df = pd.DataFrame({'Actual': y_test, 'predicted': y_pred})\n",
    "df"
   ]
  },
  {
   "cell_type": "code",
   "execution_count": 113,
   "id": "fee1e1c0",
   "metadata": {},
   "outputs": [
    {
     "name": "stdout",
     "output_type": "stream",
     "text": [
      "Training Score: 1.0\n",
      "Test Score: 1.0\n"
     ]
    }
   ],
   "source": [
    " #Estimating traing and test score\n",
    "print(\"Training Score:\", regressor.score(X_train,y_train))\n",
    "print(\"Test Score:\", regressor.score(X_test,y_test))"
   ]
  },
  {
   "cell_type": "markdown",
   "id": "c3b737f9",
   "metadata": {},
   "source": [
    "# MEansquared Error"
   ]
  },
  {
   "cell_type": "code",
   "execution_count": 114,
   "id": "b1b9657c",
   "metadata": {},
   "outputs": [
    {
     "name": "stdout",
     "output_type": "stream",
     "text": [
      "MAE: 3.901736229587966e-15\n",
      "MSE: 2.0093765636047944e-29\n",
      "RMSE: 4.482607013340333e-15\n"
     ]
    }
   ],
   "source": [
    "from sklearn.metrics import mean_absolute_error, mean_squared_error\n",
    "import numpy as np\n",
    "\n",
    "mae = mean_absolute_error(y_true=y_test, y_pred=y_pred)\n",
    "mse = mean_squared_error(y_true=y_test, y_pred=y_pred)\n",
    "rmse = np.sqrt(mse)  \n",
    "\n",
    "print(\"MAE:\", mae)\n",
    "print(\"MSE:\", mse)\n",
    "print(\"RMSE:\", rmse)\n"
   ]
  },
  {
   "cell_type": "markdown",
   "id": "7180d935",
   "metadata": {},
   "source": [
    "# Plotting bar graph to predict the differnces between the actual and predicted value"
   ]
  },
  {
   "cell_type": "code",
   "execution_count": 115,
   "id": "0f6444e5",
   "metadata": {},
   "outputs": [
    {
     "data": {
      "image/png": "[encoded data removed]",
      "text/plain": [
       "<Figure size 800x400 with 1 Axes>"
      ]
     },
     "metadata": {},
     "output_type": "display_data"
    }
   ],
   "source": [
    "df.head(20).plot(kind='bar', figsize=(8,4))\n",
    "plt.grid(which='major', linewidth=0.5, color='red')\n",
    "plt.grid(which='minor', linewidth=0.2, color='blue')\n",
    "plt.show()"
   ]
  }
 ],
 "metadata": {
  "kernelspec": {
   "display_name": "ros2_env",
   "language": "python",
   "name": "python3"
  },
  "language_info": {
   "codemirror_mode": {
    "name": "ipython",
    "version": 3
   },
   "file_extension": ".py",
   "mimetype": "text/x-python",
   "name": "python",
   "nbconvert_exporter": "python",
   "pygments_lexer": "ipython3",
   "version": "3.12.3"
  }
 },
 "nbformat": 4,
 "nbformat_minor": 5
}
